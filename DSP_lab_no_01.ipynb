{
  "nbformat": 4,
  "nbformat_minor": 0,
  "metadata": {
    "colab": {
      "provenance": [],
      "authorship_tag": "ABX9TyM0Oi9u7Fz3ZLPCAHxrAooO",
      "include_colab_link": true
    },
    "kernelspec": {
      "name": "python3",
      "display_name": "Python 3"
    },
    "language_info": {
      "name": "python"
    }
  },
  "cells": [
    {
      "cell_type": "markdown",
      "metadata": {
        "id": "view-in-github",
        "colab_type": "text"
      },
      "source": [
        "<a href=\"https://colab.research.google.com/github/amitya369/Data_Analysis_with_python/blob/main/DSP_lab_no_01.ipynb\" target=\"_parent\"><img src=\"https://colab.research.google.com/assets/colab-badge.svg\" alt=\"Open In Colab\"/></a>"
      ]
    },
    {
      "cell_type": "markdown",
      "source": [
        "practicle no:- wap in python to print  the factorial of a number"
      ],
      "metadata": {
        "id": "DOK6yoy4VZ6-"
      }
    },
    {
      "cell_type": "code",
      "source": [
        "# practicle no:- wap in python to print  the factorial of a number\n",
        "def factorial(n):\n",
        "  if n == 0:\n",
        "    return 1\n",
        "  else:\n",
        "    return n * factorial(n-1)\n",
        "n=int(input(\"Input a number to compute the factiorial : \"))\n",
        "print(factorial(n))"
      ],
      "metadata": {
        "colab": {
          "base_uri": "https://localhost:8080/"
        },
        "id": "ZsaXuQLZWApb",
        "outputId": "1e41f664-746a-40a8-eb78-cf2fd0340279"
      },
      "execution_count": 2,
      "outputs": [
        {
          "output_type": "stream",
          "name": "stdout",
          "text": [
            "Input a number to compute the factiorial : 6\n",
            "720\n"
          ]
        }
      ]
    },
    {
      "cell_type": "markdown",
      "source": [
        "practicle no :- wap in python to print the factorial of a number using oops"
      ],
      "metadata": {
        "id": "e2wj3NGIWJ0A"
      }
    },
    {
      "cell_type": "code",
      "source": [
        "def factorial(n):\n",
        "  if n == 0:\n",
        "    return 1\n",
        "  else:\n",
        "    return n * factorial(n-1)\n",
        "n=int(input(\"Input a number to compute the factiorial : \"))\n",
        "print(factorial(n))\n",
        "# practicle no :- wap in python to print the factorial of a number using oops\n",
        "\n",
        "class Factorial:\n",
        "    def __init__(self,n):\n",
        "        self.n = n\n",
        "    def fact(self):\n",
        "        if self.n == 0:\n",
        "            return 1\n",
        "        else:\n",
        "            return self.n * factorial(self.n-1)\n",
        "n=int(input(\"Input a number to compute the factiorial : \"))\n",
        "obj = Factorial(n)\n",
        "print(obj.fact())\n"
      ],
      "metadata": {
        "colab": {
          "base_uri": "https://localhost:8080/"
        },
        "id": "F6hlCbCBWn_Q",
        "outputId": "2724e93b-4029-415e-91c1-5248971a4cba"
      },
      "execution_count": null,
      "outputs": [
        {
          "output_type": "stream",
          "name": "stdout",
          "text": [
            "Input a number to compute the factiorial : 8\n",
            "40320\n"
          ]
        }
      ]
    }
  ]
}