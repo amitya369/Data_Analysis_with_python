{
  "nbformat": 4,
  "nbformat_minor": 0,
  "metadata": {
    "colab": {
      "provenance": [],
      "toc_visible": true,
      "authorship_tag": "ABX9TyMT1zccmvi1YwZ0Up2ih8Cb",
      "include_colab_link": true
    },
    "kernelspec": {
      "name": "python3",
      "display_name": "Python 3"
    },
    "language_info": {
      "name": "python"
    }
  },
  "cells": [
    {
      "cell_type": "markdown",
      "metadata": {
        "id": "view-in-github",
        "colab_type": "text"
      },
      "source": [
        "<a href=\"https://colab.research.google.com/github/amitya369/Data_science_with_python_lab/blob/main/lab_no_02.ipynb\" target=\"_parent\"><img src=\"https://colab.research.google.com/assets/colab-badge.svg\" alt=\"Open In Colab\"/></a>"
      ]
    },
    {
      "cell_type": "code",
      "source": [
        " # wap to print no b/w (1, 100) , check f the number is divisible by 3 then print \"fizz \" and if the number is divisible by 5 then print \"buzz\" and if the number is divisible is divided by both  the nu ber 3 and 5 then print \"FizzBuzz\"\n",
        "for i in range(1 , 100):\n",
        " if(i%3 == 0 and i%5 == 0):\n",
        "  print(\"FizzBuzz\")\n",
        " elif(i%3 == 0):\n",
        "  print(\"Fizz\")\n",
        " elif(i%5 == 0):\n",
        "  print(\"Buzz\")\n",
        " else:\n",
        "  print(i)"
      ],
      "metadata": {
        "colab": {
          "base_uri": "https://localhost:8080/"
        },
        "id": "GYWjpXUJ4NFb",
        "outputId": "3dc583fd-dd48-4c7b-ff9a-eab3633950e3"
      },
      "execution_count": 2,
      "outputs": [
        {
          "output_type": "stream",
          "name": "stdout",
          "text": [
            "1\n",
            "2\n",
            "Fizz\n",
            "4\n",
            "Buzz\n",
            "Fizz\n",
            "7\n",
            "8\n",
            "Fizz\n",
            "Buzz\n",
            "11\n",
            "Fizz\n",
            "13\n",
            "14\n",
            "FizzBuzz\n",
            "16\n",
            "17\n",
            "Fizz\n",
            "19\n",
            "Buzz\n",
            "Fizz\n",
            "22\n",
            "23\n",
            "Fizz\n",
            "Buzz\n",
            "26\n",
            "Fizz\n",
            "28\n",
            "29\n",
            "FizzBuzz\n",
            "31\n",
            "32\n",
            "Fizz\n",
            "34\n",
            "Buzz\n",
            "Fizz\n",
            "37\n",
            "38\n",
            "Fizz\n",
            "Buzz\n",
            "41\n",
            "Fizz\n",
            "43\n",
            "44\n",
            "FizzBuzz\n",
            "46\n",
            "47\n",
            "Fizz\n",
            "49\n",
            "Buzz\n",
            "Fizz\n",
            "52\n",
            "53\n",
            "Fizz\n",
            "Buzz\n",
            "56\n",
            "Fizz\n",
            "58\n",
            "59\n",
            "FizzBuzz\n",
            "61\n",
            "62\n",
            "Fizz\n",
            "64\n",
            "Buzz\n",
            "Fizz\n",
            "67\n",
            "68\n",
            "Fizz\n",
            "Buzz\n",
            "71\n",
            "Fizz\n",
            "73\n",
            "74\n",
            "FizzBuzz\n",
            "76\n",
            "77\n",
            "Fizz\n",
            "79\n",
            "Buzz\n",
            "Fizz\n",
            "82\n",
            "83\n",
            "Fizz\n",
            "Buzz\n",
            "86\n",
            "Fizz\n",
            "88\n",
            "89\n",
            "FizzBuzz\n",
            "91\n",
            "92\n",
            "Fizz\n",
            "94\n",
            "Buzz\n",
            "Fizz\n",
            "97\n",
            "98\n",
            "Fizz\n"
          ]
        }
      ]
    },
    {
      "cell_type": "code",
      "source": [
        "# wap to find the number is  prime or not\n",
        "num =int(input(\"Enter a number: \"))\n",
        "if num == 1:\n",
        "          print (num , \"is not a prime number\")\n",
        "else :\n",
        "        for i in range(2, num):\n",
        "            if (num % i) == 0:\n",
        "\n",
        "                print(num, \"is not a prime number\")\n",
        "                break\n",
        "            else:\n",
        "                print(num, \"is a prime number\")"
      ],
      "metadata": {
        "colab": {
          "base_uri": "https://localhost:8080/"
        },
        "id": "j86v9B1J4tV2",
        "outputId": "2aed5fcc-f323-4a4e-cf58-a43cb098d464"
      },
      "execution_count": 10,
      "outputs": [
        {
          "output_type": "stream",
          "name": "stdout",
          "text": [
            "Enter a number: 3\n",
            "3 is a prime number\n"
          ]
        }
      ]
    },
    {
      "cell_type": "code",
      "source": [
        "# wap to find the \"string\" is palindrome or not\n",
        "string=input((\"Enter a string:\"))\n",
        "if(string==string[::-1]):\n",
        "  print(\"The string is a palindrome\")\n",
        "else:\n",
        "  print(\"Not a palindrome\")\n"
      ],
      "metadata": {
        "colab": {
          "base_uri": "https://localhost:8080/"
        },
        "id": "je80J8R26n3V",
        "outputId": "e7465f32-00b0-41c5-fe8d-312526876390"
      },
      "execution_count": 11,
      "outputs": [
        {
          "output_type": "stream",
          "name": "stdout",
          "text": [
            "Enter a string:AMITIMA\n",
            "The string is a palindrome\n"
          ]
        }
      ]
    },
    {
      "cell_type": "code",
      "source": [
        "# wap  to find the largest  digit in a number\n",
        "\n",
        "num = int(input(\"Enter a number: \"))\n",
        "largest = 0\n",
        "while num > 0:\n",
        "  digit = num % 10\n",
        "  if digit > largest:\n",
        "    largest = digit\n",
        "  num = num // 10\n",
        "print(\"The largest digit is:\", largest)\n"
      ],
      "metadata": {
        "colab": {
          "base_uri": "https://localhost:8080/"
        },
        "id": "9ZIio88C8IJv",
        "outputId": "bdaab759-80c1-403e-c8e6-5473f0a59f85"
      },
      "execution_count": 12,
      "outputs": [
        {
          "output_type": "stream",
          "name": "stdout",
          "text": [
            "Enter a number: 6767838748676788987\n",
            "The largest digit is: 9\n"
          ]
        }
      ]
    },
    {
      "cell_type": "code",
      "source": [
        " # wap to find the sum of a given number after\n",
        "\n",
        "n = int(input(\"Enter a number: \"))\n",
        "sum = 0\n",
        "while n > 0:\n",
        "  digit = n % 10\n",
        "  sum = sum + digit\n",
        "  n = n // 10\n",
        "print(\"The sum of digits is:\", sum)\n"
      ],
      "metadata": {
        "id": "s5HPgqlj8y6l"
      },
      "execution_count": null,
      "outputs": []
    }
  ]
}